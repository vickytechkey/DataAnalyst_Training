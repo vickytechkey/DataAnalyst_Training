{
 "cells": [
  {
   "cell_type": "code",
   "execution_count": 2,
   "id": "0b9e554a",
   "metadata": {},
   "outputs": [],
   "source": [
    "import seaborn as sns\n",
    "import pandas as pd"
   ]
  },
  {
   "cell_type": "code",
   "execution_count": 5,
   "id": "5df57db1",
   "metadata": {},
   "outputs": [],
   "source": [
    "df = pd.read_csv('data.csv')"
   ]
  },
  {
   "cell_type": "code",
   "execution_count": 6,
   "id": "85e9f168",
   "metadata": {},
   "outputs": [
    {
     "data": {
      "text/html": [
       "<div>\n",
       "<style scoped>\n",
       "    .dataframe tbody tr th:only-of-type {\n",
       "        vertical-align: middle;\n",
       "    }\n",
       "\n",
       "    .dataframe tbody tr th {\n",
       "        vertical-align: top;\n",
       "    }\n",
       "\n",
       "    .dataframe thead th {\n",
       "        text-align: right;\n",
       "    }\n",
       "</style>\n",
       "<table border=\"1\" class=\"dataframe\">\n",
       "  <thead>\n",
       "    <tr style=\"text-align: right;\">\n",
       "      <th></th>\n",
       "      <th>CustomerID</th>\n",
       "      <th>Gender</th>\n",
       "      <th>Age_Group</th>\n",
       "      <th>Region</th>\n",
       "      <th>Payment_Method</th>\n",
       "      <th>Purchased</th>\n",
       "    </tr>\n",
       "  </thead>\n",
       "  <tbody>\n",
       "    <tr>\n",
       "      <th>0</th>\n",
       "      <td>1</td>\n",
       "      <td>Male</td>\n",
       "      <td>18-25</td>\n",
       "      <td>North</td>\n",
       "      <td>Card</td>\n",
       "      <td>Yes</td>\n",
       "    </tr>\n",
       "    <tr>\n",
       "      <th>1</th>\n",
       "      <td>2</td>\n",
       "      <td>Female</td>\n",
       "      <td>26-35</td>\n",
       "      <td>South</td>\n",
       "      <td>Cash</td>\n",
       "      <td>No</td>\n",
       "    </tr>\n",
       "    <tr>\n",
       "      <th>2</th>\n",
       "      <td>3</td>\n",
       "      <td>Female</td>\n",
       "      <td>36-45</td>\n",
       "      <td>East</td>\n",
       "      <td>Card</td>\n",
       "      <td>Yes</td>\n",
       "    </tr>\n",
       "    <tr>\n",
       "      <th>3</th>\n",
       "      <td>4</td>\n",
       "      <td>Male</td>\n",
       "      <td>18-25</td>\n",
       "      <td>West</td>\n",
       "      <td>UPI</td>\n",
       "      <td>No</td>\n",
       "    </tr>\n",
       "    <tr>\n",
       "      <th>4</th>\n",
       "      <td>5</td>\n",
       "      <td>Female</td>\n",
       "      <td>26-35</td>\n",
       "      <td>North</td>\n",
       "      <td>Card</td>\n",
       "      <td>Yes</td>\n",
       "    </tr>\n",
       "  </tbody>\n",
       "</table>\n",
       "</div>"
      ],
      "text/plain": [
       "   CustomerID  Gender Age_Group Region Payment_Method Purchased\n",
       "0           1    Male     18-25  North           Card       Yes\n",
       "1           2  Female     26-35  South           Cash        No\n",
       "2           3  Female     36-45   East           Card       Yes\n",
       "3           4    Male     18-25   West            UPI        No\n",
       "4           5  Female     26-35  North           Card       Yes"
      ]
     },
     "execution_count": 6,
     "metadata": {},
     "output_type": "execute_result"
    }
   ],
   "source": [
    "df.head()"
   ]
  },
  {
   "cell_type": "code",
   "execution_count": 12,
   "id": "75420bc6",
   "metadata": {},
   "outputs": [],
   "source": [
    "gender_table = pd.crosstab(df[\"Gender\"],df['Purchased'])"
   ]
  },
  {
   "cell_type": "code",
   "execution_count": 13,
   "id": "594a8890",
   "metadata": {},
   "outputs": [
    {
     "name": "stdout",
     "output_type": "stream",
     "text": [
      "Purchased  No  Yes\n",
      "Gender            \n",
      "Female      1    7\n",
      "Male        6    1\n"
     ]
    }
   ],
   "source": [
    "print(gender_table)"
   ]
  },
  {
   "cell_type": "code",
   "execution_count": 14,
   "id": "abda6740",
   "metadata": {},
   "outputs": [],
   "source": [
    "from scipy.stats import chi2_contingency\n",
    "\n",
    "chi2, p, dof, ex = chi2_contingency(gender_table)"
   ]
  },
  {
   "cell_type": "code",
   "execution_count": 15,
   "id": "adb919dc",
   "metadata": {},
   "outputs": [
    {
     "name": "stdout",
     "output_type": "stream",
     "text": [
      "5.367904974489796 0.02051059831547927 1 [[3.73333333 4.26666667]\n",
      " [3.26666667 3.73333333]]\n"
     ]
    }
   ],
   "source": [
    "print(chi2, p, dof, ex)"
   ]
  },
  {
   "cell_type": "code",
   "execution_count": 16,
   "id": "2b4ccfea",
   "metadata": {},
   "outputs": [],
   "source": [
    "age_group_table = pd.crosstab(df[\"Age_Group\"],df['Purchased'])"
   ]
  },
  {
   "cell_type": "code",
   "execution_count": 17,
   "id": "7d2e531e",
   "metadata": {},
   "outputs": [],
   "source": [
    "chi2,p,dof,ex = chi2_contingency(age_group_table)"
   ]
  },
  {
   "cell_type": "code",
   "execution_count": 18,
   "id": "13afbdee",
   "metadata": {},
   "outputs": [
    {
     "name": "stdout",
     "output_type": "stream",
     "text": [
      "0.7650170614485746\n"
     ]
    }
   ],
   "source": [
    "print(p)"
   ]
  },
  {
   "cell_type": "code",
   "execution_count": 20,
   "id": "a18f3089",
   "metadata": {},
   "outputs": [
    {
     "name": "stdout",
     "output_type": "stream",
     "text": [
      "0.025463718096632774\n"
     ]
    }
   ],
   "source": [
    "region_table = pd.crosstab(df[\"Region\"],df['Purchased'])\n",
    "chi2,p,dof,ex = chi2_contingency(region_table)\n",
    "print(p)"
   ]
  },
  {
   "cell_type": "code",
   "execution_count": 21,
   "id": "0342d9b9",
   "metadata": {},
   "outputs": [
    {
     "name": "stdout",
     "output_type": "stream",
     "text": [
      "0.02307206609718422\n"
     ]
    }
   ],
   "source": [
    "payment_table = pd.crosstab(df[\"Payment_Method\"],df['Purchased'])\n",
    "chi2,p,dof,ex = chi2_contingency(payment_table)\n",
    "print(p)"
   ]
  },
  {
   "cell_type": "code",
   "execution_count": null,
   "id": "542ff825",
   "metadata": {},
   "outputs": [],
   "source": []
  }
 ],
 "metadata": {
  "kernelspec": {
   "display_name": "Python 3",
   "language": "python",
   "name": "python3"
  },
  "language_info": {
   "codemirror_mode": {
    "name": "ipython",
    "version": 3
   },
   "file_extension": ".py",
   "mimetype": "text/x-python",
   "name": "python",
   "nbconvert_exporter": "python",
   "pygments_lexer": "ipython3",
   "version": "3.10.18"
  }
 },
 "nbformat": 4,
 "nbformat_minor": 5
}
