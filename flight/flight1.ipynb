{
 "cells": [
  {
   "cell_type": "code",
   "execution_count": 1,
   "id": "c7769eac",
   "metadata": {},
   "outputs": [],
   "source": [
    "import pandas as pd\n",
    "import seaborn as sns\n",
    "import matplotlib.pyplot as plt"
   ]
  },
  {
   "cell_type": "code",
   "execution_count": 2,
   "id": "8eadd044",
   "metadata": {},
   "outputs": [],
   "source": [
    "def write_excel(df,name=\"output.xlsx\"):\n",
    "    \"\"\"Writes the DataFrame to an Excel file.\"\"\"\n",
    "    df.to_excel(name, index=False)"
   ]
  },
  {
   "cell_type": "code",
   "execution_count": 3,
   "id": "88d7cc8b",
   "metadata": {},
   "outputs": [],
   "source": [
    "df = pd.read_excel('flight_price.xlsx')"
   ]
  },
  {
   "cell_type": "code",
   "execution_count": 4,
   "id": "90788c43",
   "metadata": {},
   "outputs": [
    {
     "data": {
      "text/plain": [
       "Index(['Airline', 'Date_of_Journey', 'Source', 'Destination', 'Route',\n",
       "       'Dep_Time', 'Arrival_Time', 'Duration', 'Total_Stops',\n",
       "       'Additional_Info', 'Price'],\n",
       "      dtype='object')"
      ]
     },
     "execution_count": 4,
     "metadata": {},
     "output_type": "execute_result"
    }
   ],
   "source": [
    "df.columns"
   ]
  },
  {
   "cell_type": "code",
   "execution_count": 5,
   "id": "2b2fa978",
   "metadata": {},
   "outputs": [],
   "source": [
    "x = df[['Airline', 'Date_of_Journey', 'Source', 'Destination', 'Route',\n",
    "       'Dep_Time', 'Arrival_Time', 'Duration', 'Total_Stops',\n",
    "       'Additional_Info']]"
   ]
  },
  {
   "cell_type": "code",
   "execution_count": 6,
   "id": "5f85ee37",
   "metadata": {},
   "outputs": [],
   "source": [
    "y = df['Price']"
   ]
  },
  {
   "cell_type": "code",
   "execution_count": 7,
   "id": "dc10304e",
   "metadata": {},
   "outputs": [
    {
     "data": {
      "text/plain": [
       "<Axes: xlabel='Price', ylabel='count'>"
      ]
     },
     "execution_count": 7,
     "metadata": {},
     "output_type": "execute_result"
    },
    {
     "data": {
      "image/png": "[encoded data removed]",
      "text/plain": [
       "<Figure size 640x480 with 1 Axes>"
      ]
     },
     "metadata": {},
     "output_type": "display_data"
    }
   ],
   "source": [
    "sns.countplot(data=df, x='Price')"
   ]
  },
  {
   "cell_type": "code",
   "execution_count": 8,
   "id": "c2e5193d",
   "metadata": {},
   "outputs": [
    {
     "name": "stdout",
     "output_type": "stream",
     "text": [
      "<class 'pandas.core.frame.DataFrame'>\n",
      "RangeIndex: 10683 entries, 0 to 10682\n",
      "Data columns (total 11 columns):\n",
      " #   Column           Non-Null Count  Dtype \n",
      "---  ------           --------------  ----- \n",
      " 0   Airline          10683 non-null  object\n",
      " 1   Date_of_Journey  10683 non-null  object\n",
      " 2   Source           10683 non-null  object\n",
      " 3   Destination      10683 non-null  object\n",
      " 4   Route            10682 non-null  object\n",
      " 5   Dep_Time         10683 non-null  object\n",
      " 6   Arrival_Time     10683 non-null  object\n",
      " 7   Duration         10683 non-null  object\n",
      " 8   Total_Stops      10682 non-null  object\n",
      " 9   Additional_Info  10683 non-null  object\n",
      " 10  Price            10683 non-null  int64 \n",
      "dtypes: int64(1), object(10)\n",
      "memory usage: 918.2+ KB\n"
     ]
    }
   ],
   "source": [
    "df.info()\n"
   ]
  },
  {
   "cell_type": "code",
   "execution_count": 9,
   "id": "9d6f7684",
   "metadata": {},
   "outputs": [
    {
     "data": {
      "text/html": [
       "<div>\n",
       "<style scoped>\n",
       "    .dataframe tbody tr th:only-of-type {\n",
       "        vertical-align: middle;\n",
       "    }\n",
       "\n",
       "    .dataframe tbody tr th {\n",
       "        vertical-align: top;\n",
       "    }\n",
       "\n",
       "    .dataframe thead th {\n",
       "        text-align: right;\n",
       "    }\n",
       "</style>\n",
       "<table border=\"1\" class=\"dataframe\">\n",
       "  <thead>\n",
       "    <tr style=\"text-align: right;\">\n",
       "      <th></th>\n",
       "      <th>Price</th>\n",
       "    </tr>\n",
       "  </thead>\n",
       "  <tbody>\n",
       "    <tr>\n",
       "      <th>count</th>\n",
       "      <td>10683.000000</td>\n",
       "    </tr>\n",
       "    <tr>\n",
       "      <th>mean</th>\n",
       "      <td>9087.064121</td>\n",
       "    </tr>\n",
       "    <tr>\n",
       "      <th>std</th>\n",
       "      <td>4611.359167</td>\n",
       "    </tr>\n",
       "    <tr>\n",
       "      <th>min</th>\n",
       "      <td>1759.000000</td>\n",
       "    </tr>\n",
       "    <tr>\n",
       "      <th>25%</th>\n",
       "      <td>5277.000000</td>\n",
       "    </tr>\n",
       "    <tr>\n",
       "      <th>50%</th>\n",
       "      <td>8372.000000</td>\n",
       "    </tr>\n",
       "    <tr>\n",
       "      <th>75%</th>\n",
       "      <td>12373.000000</td>\n",
       "    </tr>\n",
       "    <tr>\n",
       "      <th>max</th>\n",
       "      <td>79512.000000</td>\n",
       "    </tr>\n",
       "  </tbody>\n",
       "</table>\n",
       "</div>"
      ],
      "text/plain": [
       "              Price\n",
       "count  10683.000000\n",
       "mean    9087.064121\n",
       "std     4611.359167\n",
       "min     1759.000000\n",
       "25%     5277.000000\n",
       "50%     8372.000000\n",
       "75%    12373.000000\n",
       "max    79512.000000"
      ]
     },
     "execution_count": 9,
     "metadata": {},
     "output_type": "execute_result"
    }
   ],
   "source": [
    "df.describe()"
   ]
  },
  {
   "cell_type": "code",
   "execution_count": 10,
   "id": "08c31ac6",
   "metadata": {},
   "outputs": [
    {
     "data": {
      "text/plain": [
       "Index(['Airline', 'Date_of_Journey', 'Source', 'Destination', 'Route',\n",
       "       'Dep_Time', 'Arrival_Time', 'Duration', 'Total_Stops',\n",
       "       'Additional_Info', 'Price'],\n",
       "      dtype='object')"
      ]
     },
     "execution_count": 10,
     "metadata": {},
     "output_type": "execute_result"
    }
   ],
   "source": [
    "df.columns"
   ]
  },
  {
   "cell_type": "code",
   "execution_count": 11,
   "id": "e2e95186",
   "metadata": {},
   "outputs": [
    {
     "data": {
      "text/plain": [
       "array(['IndiGo', 'Air India', 'Jet Airways', 'SpiceJet',\n",
       "       'Multiple carriers', 'GoAir', 'Vistara', 'Air Asia',\n",
       "       'Vistara Premium economy', 'Jet Airways Business',\n",
       "       'Multiple carriers Premium economy', 'Trujet'], dtype=object)"
      ]
     },
     "execution_count": 11,
     "metadata": {},
     "output_type": "execute_result"
    }
   ],
   "source": [
    "df['Airline'].unique()"
   ]
  },
  {
   "cell_type": "code",
   "execution_count": 12,
   "id": "fbfe897f",
   "metadata": {},
   "outputs": [],
   "source": [
    "from sklearn.preprocessing import OneHotEncoder"
   ]
  },
  {
   "cell_type": "code",
   "execution_count": 13,
   "id": "28ea4c7f",
   "metadata": {},
   "outputs": [],
   "source": [
    "encoder = OneHotEncoder(sparse_output=False)"
   ]
  },
  {
   "cell_type": "code",
   "execution_count": 14,
   "id": "9c1e6f14",
   "metadata": {},
   "outputs": [],
   "source": [
    "encoder_array = encoder.fit_transform(df[['Airline']])\n",
    "encoder_cols = encoder.get_feature_names_out(['Airline'])"
   ]
  },
  {
   "cell_type": "code",
   "execution_count": 15,
   "id": "eb8c3f6a",
   "metadata": {},
   "outputs": [],
   "source": [
    "encode_df_airline = pd.DataFrame(encoder_array, columns=encoder_cols)"
   ]
  },
  {
   "cell_type": "code",
   "execution_count": 16,
   "id": "6f124d46",
   "metadata": {},
   "outputs": [],
   "source": [
    "df['Date'] = df['Date_of_Journey'].str.split('/').str[0].astype(int)\n",
    "df['Month'] = df['Date_of_Journey'].str.split('/').str[1].astype(int)\n",
    "df['Year'] = df['Date_of_Journey'].str.split('/').str[2].astype(int)"
   ]
  },
  {
   "cell_type": "code",
   "execution_count": 17,
   "id": "da998e64",
   "metadata": {},
   "outputs": [
    {
     "data": {
      "text/plain": [
       "<Axes: xlabel='Airline', ylabel='Price'>"
      ]
     },
     "execution_count": 17,
     "metadata": {},
     "output_type": "execute_result"
    },
    {
     "data": {
      "image/png": "[encoded data removed]",
      "text/plain": [
       "<Figure size 640x480 with 1 Axes>"
      ]
     },
     "metadata": {},
     "output_type": "display_data"
    }
   ],
   "source": [
    "sns.boxplot(data=df, x='Airline', y='Price')"
   ]
  },
  {
   "cell_type": "code",
   "execution_count": 18,
   "id": "2360ffd7",
   "metadata": {},
   "outputs": [
    {
     "name": "stderr",
     "output_type": "stream",
     "text": [
      "2025-10-26 11:44:23.853 | INFO     | fitter.fitter:_fit_single_distribution:333 - Fitted norm distribution with error=0.0)\n",
      "2025-10-26 11:44:23.859 | INFO     | fitter.fitter:_fit_single_distribution:333 - Fitted uniform distribution with error=0.0)\n",
      "2025-10-26 11:44:23.860 | INFO     | fitter.fitter:_fit_single_distribution:333 - Fitted expon distribution with error=0.0)\n",
      "2025-10-26 11:44:23.888 | INFO     | fitter.fitter:_fit_single_distribution:333 - Fitted powerlaw distribution with error=0.0)\n",
      "2025-10-26 11:44:23.891 | INFO     | fitter.fitter:_fit_single_distribution:333 - Fitted lognorm distribution with error=0.0)\n",
      "2025-10-26 11:44:23.908 | INFO     | fitter.fitter:_fit_single_distribution:333 - Fitted cauchy distribution with error=0.0)\n",
      "2025-10-26 11:44:23.923 | INFO     | fitter.fitter:_fit_single_distribution:333 - Fitted rayleigh distribution with error=0.0)\n",
      "2025-10-26 11:44:23.972 | INFO     | fitter.fitter:_fit_single_distribution:333 - Fitted chi2 distribution with error=0.0)\n",
      "2025-10-26 11:44:23.998 | INFO     | fitter.fitter:_fit_single_distribution:333 - Fitted gamma distribution with error=0.0)\n",
      "2025-10-26 11:44:24.060 | INFO     | fitter.fitter:_fit_single_distribution:333 - Fitted exponpow distribution with error=0.0)\n"
     ]
    },
    {
     "data": {
      "text/html": [
       "<div>\n",
       "<style scoped>\n",
       "    .dataframe tbody tr th:only-of-type {\n",
       "        vertical-align: middle;\n",
       "    }\n",
       "\n",
       "    .dataframe tbody tr th {\n",
       "        vertical-align: top;\n",
       "    }\n",
       "\n",
       "    .dataframe thead th {\n",
       "        text-align: right;\n",
       "    }\n",
       "</style>\n",
       "<table border=\"1\" class=\"dataframe\">\n",
       "  <thead>\n",
       "    <tr style=\"text-align: right;\">\n",
       "      <th></th>\n",
       "      <th>sumsquare_error</th>\n",
       "      <th>aic</th>\n",
       "      <th>bic</th>\n",
       "      <th>kl_div</th>\n",
       "      <th>ks_statistic</th>\n",
       "      <th>ks_pvalue</th>\n",
       "    </tr>\n",
       "  </thead>\n",
       "  <tbody>\n",
       "    <tr>\n",
       "      <th>rayleigh</th>\n",
       "      <td>1.059268e-08</td>\n",
       "      <td>6359.066122</td>\n",
       "      <td>6373.618940</td>\n",
       "      <td>inf</td>\n",
       "      <td>0.070498</td>\n",
       "      <td>1.298042e-46</td>\n",
       "    </tr>\n",
       "    <tr>\n",
       "      <th>lognorm</th>\n",
       "      <td>1.150540e-08</td>\n",
       "      <td>3267.044838</td>\n",
       "      <td>3288.874065</td>\n",
       "      <td>inf</td>\n",
       "      <td>0.075144</td>\n",
       "      <td>6.595617e-53</td>\n",
       "    </tr>\n",
       "    <tr>\n",
       "      <th>gamma</th>\n",
       "      <td>1.316505e-08</td>\n",
       "      <td>6611.098505</td>\n",
       "      <td>6632.927732</td>\n",
       "      <td>inf</td>\n",
       "      <td>0.071946</td>\n",
       "      <td>1.566021e-48</td>\n",
       "    </tr>\n",
       "    <tr>\n",
       "      <th>chi2</th>\n",
       "      <td>1.332854e-08</td>\n",
       "      <td>6536.643148</td>\n",
       "      <td>6558.472375</td>\n",
       "      <td>inf</td>\n",
       "      <td>0.066475</td>\n",
       "      <td>1.730898e-41</td>\n",
       "    </tr>\n",
       "    <tr>\n",
       "      <th>norm</th>\n",
       "      <td>1.378528e-08</td>\n",
       "      <td>8925.180619</td>\n",
       "      <td>8939.733437</td>\n",
       "      <td>inf</td>\n",
       "      <td>0.077270</td>\n",
       "      <td>6.365962e-56</td>\n",
       "    </tr>\n",
       "  </tbody>\n",
       "</table>\n",
       "</div>"
      ],
      "text/plain": [
       "          sumsquare_error          aic          bic  kl_div  ks_statistic  \\\n",
       "rayleigh     1.059268e-08  6359.066122  6373.618940     inf      0.070498   \n",
       "lognorm      1.150540e-08  3267.044838  3288.874065     inf      0.075144   \n",
       "gamma        1.316505e-08  6611.098505  6632.927732     inf      0.071946   \n",
       "chi2         1.332854e-08  6536.643148  6558.472375     inf      0.066475   \n",
       "norm         1.378528e-08  8925.180619  8939.733437     inf      0.077270   \n",
       "\n",
       "             ks_pvalue  \n",
       "rayleigh  1.298042e-46  \n",
       "lognorm   6.595617e-53  \n",
       "gamma     1.566021e-48  \n",
       "chi2      1.730898e-41  \n",
       "norm      6.365962e-56  "
      ]
     },
     "execution_count": 18,
     "metadata": {},
     "output_type": "execute_result"
    },
    {
     "data": {
      "image/png": "[encoded data removed]",
      "text/plain": [
       "<Figure size 640x480 with 1 Axes>"
      ]
     },
     "metadata": {},
     "output_type": "display_data"
    }
   ],
   "source": [
    "from fitter import Fitter,get_common_distributions\n",
    "f = Fitter(df['Price'], distributions=get_common_distributions())\n",
    "f.fit()\n",
    "f.summary()"
   ]
  },
  {
   "cell_type": "code",
   "execution_count": 19,
   "id": "374be461",
   "metadata": {},
   "outputs": [],
   "source": [
    "groups = [df['Price'][df['Airline'] == cat] for cat in df['Airline'].unique()]\n"
   ]
  },
  {
   "cell_type": "code",
   "execution_count": 20,
   "id": "194bb528",
   "metadata": {},
   "outputs": [
    {
     "name": "stdout",
     "output_type": "stream",
     "text": [
      "Kruskal-Wallis Statistic: 4870.59376902, p-value: 0.0000\n"
     ]
    }
   ],
   "source": [
    "from scipy.stats import kruskal\n",
    "\n",
    "stat, p = kruskal(*groups)\n",
    "print(f\"Kruskal-Wallis Statistic: {stat:.8f}, p-value: {p:.4f}\")"
   ]
  },
  {
   "cell_type": "code",
   "execution_count": 21,
   "id": "c3e66d91",
   "metadata": {},
   "outputs": [],
   "source": [
    "airline_encode = OneHotEncoder(sparse_output=False)\n",
    "airline_encoder_array = airline_encode.fit_transform(df[['Airline']])\n",
    "airline_encoder_cols = airline_encode.get_feature_names_out(['Airline'])    \n",
    "encode_df_airline = pd.DataFrame(airline_encoder_array, columns=airline_encoder_cols)"
   ]
  },
  {
   "cell_type": "code",
   "execution_count": 22,
   "id": "ac637057",
   "metadata": {},
   "outputs": [],
   "source": [
    "write_excel(encode_df_airline,name=\"flight_output.xlsx\")"
   ]
  },
  {
   "cell_type": "code",
   "execution_count": 23,
   "id": "c5ac740c",
   "metadata": {},
   "outputs": [],
   "source": [
    "source_groups = [df['Price'][df['Source'] == cat] for cat in df['Source'].unique()]"
   ]
  },
  {
   "cell_type": "code",
   "execution_count": 24,
   "id": "a8fab533",
   "metadata": {},
   "outputs": [
    {
     "name": "stdout",
     "output_type": "stream",
     "text": [
      "Kruskal-Wallis Statistic: 2348.88228472, p-value: 0.0000\n"
     ]
    }
   ],
   "source": [
    "stat, p  = kruskal(*source_groups)\n",
    "print(f\"Kruskal-Wallis Statistic: {stat:.8f}, p-value: {p:.4f}\")"
   ]
  },
  {
   "cell_type": "code",
   "execution_count": 25,
   "id": "9d50e7dc",
   "metadata": {},
   "outputs": [
    {
     "name": "stdout",
     "output_type": "stream",
     "text": [
      "Kruskal-Wallis Statistic: 3379.66996897, p-value: 0.0000\n"
     ]
    }
   ],
   "source": [
    "destination_groups = [df['Price'][df['Destination'] == cat] for cat in df['Destination'].unique()]\n",
    "stat, p  = kruskal(*destination_groups)\n",
    "print(f\"Kruskal-Wallis Statistic: {stat:.8f}, p-value: {p:.4f}\")"
   ]
  },
  {
   "cell_type": "code",
   "execution_count": 26,
   "id": "842914d4",
   "metadata": {},
   "outputs": [],
   "source": [
    "source_encode = OneHotEncoder(sparse_output=False)\n",
    "source_encoder_array = source_encode.fit_transform(df[['Source']])\n",
    "source_encoder_cols = source_encode.get_feature_names_out(['Source'])\n",
    "encode_df_source = pd.DataFrame(source_encoder_array, columns=source_encoder_cols)"
   ]
  },
  {
   "cell_type": "code",
   "execution_count": 27,
   "id": "e72a1ea9",
   "metadata": {},
   "outputs": [],
   "source": [
    "destination_encode = OneHotEncoder(sparse_output=False)\n",
    "destination_encoder_array = destination_encode.fit_transform(df[['Destination']])\n",
    "destination_encoder_cols = destination_encode.get_feature_names_out(['Destination'])\n",
    "encode_df_destination = pd.DataFrame(destination_encoder_array, columns=destination_encoder_cols)"
   ]
  },
  {
   "cell_type": "code",
   "execution_count": 28,
   "id": "0aff7e46",
   "metadata": {},
   "outputs": [],
   "source": [
    "write_excel(encode_df_source,name=\"source.xlsx\")\n",
    "write_excel(encode_df_destination,name=\"destination.xlsx\")"
   ]
  },
  {
   "cell_type": "code",
   "execution_count": 29,
   "id": "ebab4da8",
   "metadata": {},
   "outputs": [],
   "source": [
    "df['dep_hour'] = df['Dep_Time'].str.split(':').str[0]\n",
    "df['dep_hour'] = df['dep_hour'].astype(int)"
   ]
  },
  {
   "cell_type": "code",
   "execution_count": 30,
   "id": "0b60c439",
   "metadata": {},
   "outputs": [],
   "source": [
    "df['dep_minute'] = df['Dep_Time'].str.split(':').str[1]\n",
    "df['dep_minute'] = df['dep_minute'].astype(int)"
   ]
  },
  {
   "cell_type": "code",
   "execution_count": 31,
   "id": "b1fda6bc",
   "metadata": {},
   "outputs": [],
   "source": [
    "df.drop(['Dep_Time'], axis=1, inplace=True)"
   ]
  },
  {
   "cell_type": "code",
   "execution_count": 33,
   "id": "189f75b0",
   "metadata": {},
   "outputs": [
    {
     "data": {
      "text/plain": [
       "array(['Banglore', 'Kolkata', 'Delhi', 'Chennai', 'Mumbai'], dtype=object)"
      ]
     },
     "execution_count": 33,
     "metadata": {},
     "output_type": "execute_result"
    }
   ],
   "source": [
    "df['Source'].unique()"
   ]
  },
  {
   "cell_type": "code",
   "execution_count": 35,
   "id": "d62e79c7",
   "metadata": {},
   "outputs": [
    {
     "name": "stdout",
     "output_type": "stream",
     "text": [
      "Kruskal-Wallis Statistic: 2348.88228472, p-value: 0.0000\n"
     ]
    }
   ],
   "source": [
    "source_groups = [df['Price'][df['Source'] == cat] for cat in df['Source'].unique()]\n",
    "stat, p  = kruskal(*source_groups)\n",
    "print(f\"Kruskal-Wallis Statistic: {stat:.8f}, p-value: {p:.4f}\")"
   ]
  },
  {
   "cell_type": "code",
   "execution_count": 36,
   "id": "df905f53",
   "metadata": {},
   "outputs": [
    {
     "name": "stdout",
     "output_type": "stream",
     "text": [
      "Kruskal-Wallis Statistic: 3379.66996897, p-value: 0.0000\n"
     ]
    }
   ],
   "source": [
    "destination_groups = [df['Price'][df['Destination'] == cat] for cat in df['Destination'].unique()]\n",
    "stat, p  = kruskal(*destination_groups)\n",
    "print(f\"Kruskal-Wallis Statistic: {stat:.8f}, p-value: {p:.4f}\")"
   ]
  },
  {
   "cell_type": "code",
   "execution_count": null,
   "id": "1aa4cf98",
   "metadata": {},
   "outputs": [
    {
     "ename": "AttributeError",
     "evalue": "'str' object has no attribute 'astype'",
     "output_type": "error",
     "traceback": [
      "\u001b[0;31m---------------------------------------------------------------------------\u001b[0m",
      "\u001b[0;31mAttributeError\u001b[0m                            Traceback (most recent call last)",
      "Cell \u001b[0;32mIn[44], line 3\u001b[0m\n\u001b[1;32m      1\u001b[0m duration_hours \u001b[38;5;241m=\u001b[39m df[\u001b[38;5;124m'\u001b[39m\u001b[38;5;124mDuration\u001b[39m\u001b[38;5;124m'\u001b[39m]\u001b[38;5;241m.\u001b[39mstr\u001b[38;5;241m.\u001b[39msplit(\u001b[38;5;124m'\u001b[39m\u001b[38;5;124m \u001b[39m\u001b[38;5;124m'\u001b[39m)\u001b[38;5;241m.\u001b[39mstr[\u001b[38;5;241m0\u001b[39m]\n\u001b[1;32m      2\u001b[0m duration_hours \u001b[38;5;241m=\u001b[39m duration_hours\u001b[38;5;241m.\u001b[39mstr\u001b[38;5;241m.\u001b[39mreplace(\u001b[38;5;124m'\u001b[39m\u001b[38;5;124mh\u001b[39m\u001b[38;5;124m'\u001b[39m,\u001b[38;5;124m'\u001b[39m\u001b[38;5;124m'\u001b[39m)\n\u001b[0;32m----> 3\u001b[0m \u001b[43mduration_hours\u001b[49m\u001b[43m[\u001b[49m\u001b[38;5;241;43m0\u001b[39;49m\u001b[43m]\u001b[49m\u001b[38;5;241;43m.\u001b[39;49m\u001b[43mastype\u001b[49m(\u001b[38;5;28mint\u001b[39m)\n",
      "\u001b[0;31mAttributeError\u001b[0m: 'str' object has no attribute 'astype'"
     ]
    }
   ],
   "source": [
    "duration_hours = df['Duration'].str.split(' ').str[0]\n",
    "duration_hours = duration_hours.str.replace('h','')\n"
   ]
  },
  {
   "cell_type": "code",
   "execution_count": 45,
   "id": "7f3e83e1",
   "metadata": {},
   "outputs": [],
   "source": [
    "duration_minutes = df['Duration'].str.split(' ').str[1]\n",
    "duration_minutes = duration_minutes.str.replace('m','')"
   ]
  },
  {
   "cell_type": "code",
   "execution_count": 46,
   "id": "fcdfc64e",
   "metadata": {},
   "outputs": [],
   "source": [
    "duration_df = pd.DataFrame(columns=['Duration_hours','Duration_minutes'])\n",
    "duration_df['Duration_hours'] = duration_hours\n",
    "duration_df['Duration_minutes'] = duration_minutes"
   ]
  },
  {
   "cell_type": "code",
   "execution_count": 47,
   "id": "b01c64e0",
   "metadata": {},
   "outputs": [],
   "source": [
    "write_excel(duration_df,name=\"duration.xlsx\")"
   ]
  },
  {
   "cell_type": "code",
   "execution_count": 49,
   "id": "39f9d84a",
   "metadata": {},
   "outputs": [],
   "source": [
    "df['Total_Stops'] = df['Total_Stops'].map({'non-stop':0,'1 stop':1,'2 stops':2,'3 stops':3,'4 stops':4})"
   ]
  },
  {
   "cell_type": "code",
   "execution_count": 50,
   "id": "277ad747",
   "metadata": {},
   "outputs": [],
   "source": [
    "df.drop(['Route'], axis=1, inplace=True)"
   ]
  },
  {
   "cell_type": "code",
   "execution_count": 51,
   "id": "12e62138",
   "metadata": {},
   "outputs": [
    {
     "data": {
      "text/plain": [
       "Index(['Airline', 'Date_of_Journey', 'Source', 'Destination', 'Arrival_Time',\n",
       "       'Duration', 'Total_Stops', 'Additional_Info', 'Price', 'Date', 'Month',\n",
       "       'Year', 'dep_hour', 'dep_minute'],\n",
       "      dtype='object')"
      ]
     },
     "execution_count": 51,
     "metadata": {},
     "output_type": "execute_result"
    }
   ],
   "source": [
    "df.columns"
   ]
  },
  {
   "cell_type": "code",
   "execution_count": 52,
   "id": "a2909108",
   "metadata": {},
   "outputs": [],
   "source": [
    "df.drop(['Date_of_Journey','Source','Destination','Arrival_Time','Duration','Additional_Info'], axis=1, inplace=True)"
   ]
  },
  {
   "cell_type": "code",
   "execution_count": 54,
   "id": "88ec18f3",
   "metadata": {},
   "outputs": [],
   "source": [
    "df.drop(['Airline'], axis=1, inplace=True)"
   ]
  },
  {
   "cell_type": "code",
   "execution_count": 57,
   "id": "33416001",
   "metadata": {},
   "outputs": [],
   "source": [
    "df_flight= pd.read_excel('flight_output.xlsx')\n",
    "df_destination = pd.read_excel('destination.xlsx')\n",
    "df_source = pd.read_excel('source.xlsx')\n",
    "df_duration = pd.read_excel('duration.xlsx')"
   ]
  },
  {
   "cell_type": "code",
   "execution_count": 58,
   "id": "fadc3272",
   "metadata": {},
   "outputs": [],
   "source": [
    "df = pd.concat([df,df_flight,df_source,df_destination,df_duration], axis=1)"
   ]
  },
  {
   "cell_type": "code",
   "execution_count": 59,
   "id": "6263bfe7",
   "metadata": {},
   "outputs": [
    {
     "data": {
      "text/plain": [
       "Index(['Total_Stops', 'Price', 'Date', 'Month', 'Year', 'dep_hour',\n",
       "       'dep_minute', 'Airline_Air Asia', 'Airline_Air India', 'Airline_GoAir',\n",
       "       'Airline_IndiGo', 'Airline_Jet Airways', 'Airline_Jet Airways Business',\n",
       "       'Airline_Multiple carriers',\n",
       "       'Airline_Multiple carriers Premium economy', 'Airline_SpiceJet',\n",
       "       'Airline_Trujet', 'Airline_Vistara', 'Airline_Vistara Premium economy',\n",
       "       'Source_Banglore', 'Source_Chennai', 'Source_Delhi', 'Source_Kolkata',\n",
       "       'Source_Mumbai', 'Destination_Banglore', 'Destination_Cochin',\n",
       "       'Destination_Delhi', 'Destination_Hyderabad', 'Destination_Kolkata',\n",
       "       'Destination_New Delhi', 'Duration_hours', 'Duration_minutes'],\n",
       "      dtype='object')"
      ]
     },
     "execution_count": 59,
     "metadata": {},
     "output_type": "execute_result"
    }
   ],
   "source": [
    "df.columns"
   ]
  },
  {
   "cell_type": "code",
   "execution_count": 60,
   "id": "99afe752",
   "metadata": {},
   "outputs": [],
   "source": [
    "write_excel(df, name=\"flight_data_cleaned.xlsx\")"
   ]
  },
  {
   "cell_type": "code",
   "execution_count": 63,
   "id": "34a3177b",
   "metadata": {},
   "outputs": [
    {
     "name": "stderr",
     "output_type": "stream",
     "text": [
      "/tmp/ipykernel_824/821776089.py:1: FutureWarning: A value is trying to be set on a copy of a DataFrame or Series through chained assignment using an inplace method.\n",
      "The behavior will change in pandas 3.0. This inplace method will never work because the intermediate object on which we are setting values always behaves as a copy.\n",
      "\n",
      "For example, when doing 'df[col].method(value, inplace=True)', try using 'df.method({col: value}, inplace=True)' or df[col] = df[col].method(value) instead, to perform the operation inplace on the original object.\n",
      "\n",
      "\n",
      "  df['Duration_minutes'].fillna(0, inplace=True)\n"
     ]
    }
   ],
   "source": [
    "df['Duration_minutes'].fillna(0, inplace=True)"
   ]
  },
  {
   "cell_type": "code",
   "execution_count": 64,
   "id": "82f00a9b",
   "metadata": {},
   "outputs": [],
   "source": [
    "write_excel(df,name=\"flight_output.xlsx\")"
   ]
  },
  {
   "cell_type": "code",
   "execution_count": null,
   "id": "8e80f821",
   "metadata": {},
   "outputs": [],
   "source": []
  }
 ],
 "metadata": {
  "kernelspec": {
   "display_name": "Python 3",
   "language": "python",
   "name": "python3"
  },
  "language_info": {
   "codemirror_mode": {
    "name": "ipython",
    "version": 3
   },
   "file_extension": ".py",
   "mimetype": "text/x-python",
   "name": "python",
   "nbconvert_exporter": "python",
   "pygments_lexer": "ipython3",
   "version": "3.10.18"
  }
 },
 "nbformat": 4,
 "nbformat_minor": 5
}
